{
  "nbformat": 4,
  "nbformat_minor": 0,
  "metadata": {
    "colab": {
      "provenance": [],
      "authorship_tag": "ABX9TyNuG4/Co5vmSSfsWT0jsWnN",
      "include_colab_link": true
    },
    "kernelspec": {
      "name": "python3",
      "display_name": "Python 3"
    },
    "language_info": {
      "name": "python"
    }
  },
  "cells": [
    {
      "cell_type": "markdown",
      "metadata": {
        "id": "view-in-github",
        "colab_type": "text"
      },
      "source": [
        "<a href=\"https://colab.research.google.com/github/Gtdfghh/C-programming-assignment-/blob/main/CODECRAFT_SD_02.ipynb\" target=\"_parent\"><img src=\"https://colab.research.google.com/assets/colab-badge.svg\" alt=\"Open In Colab\"/></a>"
      ]
    },
    {
      "cell_type": "code",
      "execution_count": null,
      "metadata": {
        "colab": {
          "base_uri": "https://localhost:8080/"
        },
        "id": "nFTsAnwCPG4-",
        "outputId": "249d071d-c995-404b-f559-691237fdf68b"
      },
      "outputs": [
        {
          "output_type": "stream",
          "name": "stdout",
          "text": [
            "Welcome to the Guessing Game!\n",
            "I have selected a number between 1 and 100. Can you guess it?\n",
            "Enter your guess: 1\n",
            "Too low! Try again.\n",
            "Enter your guess: 100\n",
            "Too high! Try again.\n",
            "Enter your guess: 76\n",
            "Too low! Try again.\n",
            "Enter your guess: 64\n",
            "Too low! Try again.\n",
            "Enter your guess: 62\n",
            "Too low! Try again.\n",
            "Enter your guess: 34\n",
            "Too low! Try again.\n",
            "Enter your guess: 89\n",
            "Too low! Try again.\n",
            "Enter your guess: 67\n",
            "Too low! Try again.\n",
            "Enter your guess: 45\n",
            "Too low! Try again.\n",
            "Enter your guess: 90\n",
            "Too low! Try again.\n",
            "Enter your guess: 45\n",
            "Too low! Try again.\n",
            "Enter your guess: 99\n",
            " Congratulations! You guessed the number 99 in 12 attempts.\n"
          ]
        }
      ],
      "source": [
        "# Task 02: Guessing Game\n",
        "import random\n",
        "secret_number = random.randint(1, 100)\n",
        "attempts = 0\n",
        "print(\"Welcome to the Guessing Game!\")\n",
        "print(\"I have selected a number between 1 and 100. Can you guess it?\")\n",
        "while True:\n",
        "    guess = int(input(\"Enter your guess: \"))\n",
        "    attempts += 1\n",
        "\n",
        "    if guess < secret_number:\n",
        "        print(\"Too low! Try again.\")\n",
        "    elif guess > secret_number:\n",
        "        print(\"Too high! Try again.\")\n",
        "    else:\n",
        "        print(f\" Congratulations! You guessed the number {secret_number} in {attempts} attempts.\")\n",
        "        break\n"
      ]
    }
  ]
}